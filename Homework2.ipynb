{
 "cells": [
  {
   "cell_type": "markdown",
   "metadata": {},
   "source": [
    "# DS560: Data Science Practicum\n",
    "## Homework 2\n",
    "### Wenkai Xu"
   ]
  },
  {
   "cell_type": "markdown",
   "metadata": {},
   "source": [
    "# Here is the requirement of this homework:\n",
    "### Create three different scripts to perform the following tasks:     \n",
    "  \n",
    "a.Generate 1000 random numbers over the range 0-100  \n",
    "b.Generate new numbers from the original 1000 using the equation y=3x+6  \n",
    "c.Visualize the results  "
   ]
  },
  {
   "cell_type": "markdown",
   "metadata": {},
   "source": [
    "### I will break it down into 3 steps with scripts."
   ]
  },
  {
   "cell_type": "markdown",
   "metadata": {},
   "source": [
    "# Step 1:  \n",
    "Generating 1000 random numbers over the range 0-100 into a list and then export the list into a csv file"
   ]
  },
  {
   "cell_type": "code",
   "execution_count": 1,
   "metadata": {},
   "outputs": [
    {
     "name": "stdout",
     "output_type": "stream",
     "text": [
      "[61, 36, 47, 14, 75, 74, 66, 26, 22, 80, 51, 55, 47, 68, 64, 24, 8, 42, 35, 2, 45, 2, 28, 0, 52, 94, 85, 46, 52, 10, 51, 32, 38, 88, 35, 2, 59, 63, 98, 84, 85, 94, 17, 40, 29, 24, 30, 30, 54, 40, 97, 34, 82, 48, 25, 33, 83, 39, 0, 62, 87, 9, 83, 41, 20, 53, 54, 62, 68, 26, 43, 16, 97, 95, 54, 94, 60, 45, 100, 12, 93, 11, 23, 26, 2, 31, 94, 28, 50, 77, 84, 36, 97, 79, 31, 14, 98, 0, 98, 68, 26, 25, 67, 2, 76, 37, 15, 95, 55, 30, 55, 0, 18, 62, 51, 47, 57, 72, 69, 9, 80, 54, 24, 5, 73, 99, 91, 20, 59, 32, 88, 80, 16, 9, 81, 15, 52, 38, 24, 94, 30, 95, 65, 91, 93, 4, 20, 95, 41, 46, 71, 56, 18, 42, 39, 19, 40, 11, 36, 15, 68, 3, 23, 70, 85, 53, 90, 2, 36, 92, 45, 4, 11, 63, 17, 38, 84, 97, 6, 33, 60, 81, 12, 90, 0, 90, 100, 61, 5, 92, 84, 25, 67, 32, 36, 50, 21, 34, 89, 96, 75, 38, 41, 6, 57, 65, 61, 79, 25, 53, 6, 90, 1, 80, 17, 51, 17, 61, 12, 26, 7, 1, 73, 5, 42, 69, 92, 70, 10, 49, 100, 86, 70, 97, 62, 36, 65, 46, 51, 39, 64, 95, 93, 53, 16, 58, 89, 3, 73, 61, 17, 33, 87, 69, 85, 86, 11, 25, 38, 46, 40, 97, 51, 73, 78, 79, 70, 47, 87, 21, 10, 25, 72, 92, 91, 75, 30, 41, 26, 67, 94, 53, 47, 21, 21, 88, 96, 24, 48, 62, 99, 51, 7, 24, 13, 77, 12, 42, 54, 47, 58, 41, 50, 83, 6, 65, 6, 6, 25, 36, 15, 13, 100, 27, 64, 43, 81, 35, 56, 17, 94, 37, 78, 89, 94, 86, 63, 0, 4, 65, 38, 42, 19, 89, 94, 36, 87, 74, 90, 81, 55, 51, 51, 24, 48, 63, 49, 65, 42, 3, 35, 40, 52, 30, 11, 99, 74, 41, 9, 1, 85, 40, 56, 10, 77, 1, 53, 62, 60, 93, 99, 40, 79, 96, 2, 81, 92, 55, 12, 18, 65, 66, 6, 53, 75, 82, 70, 85, 94, 75, 85, 14, 61, 9, 4, 18, 20, 10, 4, 71, 70, 45, 51, 11, 92, 79, 57, 98, 74, 47, 2, 42, 76, 57, 16, 13, 82, 65, 34, 17, 27, 43, 12, 45, 10, 30, 45, 18, 18, 31, 32, 64, 8, 11, 64, 34, 71, 21, 41, 76, 94, 83, 0, 90, 5, 33, 15, 46, 3, 36, 7, 47, 64, 41, 73, 11, 31, 93, 75, 56, 93, 60, 39, 42, 65, 71, 0, 20, 46, 32, 13, 74, 3, 94, 29, 46, 25, 1, 89, 89, 89, 82, 47, 61, 100, 60, 48, 46, 23, 81, 42, 77, 51, 28, 83, 94, 98, 63, 93, 37, 30, 20, 14, 66, 15, 6, 83, 72, 13, 53, 37, 66, 44, 69, 36, 87, 57, 2, 37, 24, 76, 48, 85, 94, 52, 64, 33, 3, 48, 86, 25, 3, 11, 98, 61, 97, 60, 100, 64, 82, 67, 64, 7, 22, 65, 96, 31, 65, 15, 10, 93, 51, 53, 7, 46, 91, 61, 52, 38, 1, 45, 30, 18, 1, 7, 60, 40, 91, 35, 8, 26, 32, 75, 88, 67, 59, 31, 0, 57, 5, 14, 60, 40, 33, 48, 93, 14, 58, 7, 5, 56, 0, 19, 30, 92, 82, 24, 48, 35, 38, 86, 31, 8, 93, 16, 50, 38, 62, 12, 35, 18, 95, 49, 46, 77, 21, 61, 16, 69, 33, 24, 49, 59, 98, 37, 83, 43, 34, 11, 37, 27, 67, 92, 49, 63, 21, 6, 45, 1, 7, 91, 31, 3, 66, 75, 18, 75, 86, 17, 17, 31, 42, 69, 73, 32, 5, 51, 97, 42, 0, 34, 59, 28, 5, 38, 24, 83, 61, 68, 30, 22, 10, 83, 21, 64, 74, 81, 24, 16, 39, 7, 1, 78, 79, 81, 25, 86, 97, 68, 39, 6, 70, 41, 43, 83, 22, 20, 9, 24, 41, 37, 58, 91, 18, 10, 62, 38, 36, 82, 36, 59, 97, 3, 95, 74, 41, 60, 49, 5, 40, 55, 57, 23, 35, 88, 69, 36, 89, 100, 74, 86, 84, 85, 78, 68, 32, 96, 96, 0, 10, 99, 34, 80, 29, 57, 39, 45, 92, 50, 59, 76, 11, 0, 38, 92, 2, 41, 43, 67, 89, 31, 96, 29, 6, 10, 8, 26, 68, 66, 5, 57, 77, 100, 82, 43, 92, 62, 35, 53, 20, 74, 15, 68, 61, 16, 95, 25, 20, 14, 33, 86, 63, 65, 15, 2, 91, 92, 81, 38, 75, 34, 55, 42, 76, 77, 74, 77, 56, 91, 81, 16, 34, 75, 15, 2, 70, 94, 84, 11, 96, 56, 96, 59, 78, 32, 87, 60, 66, 64, 42, 92, 47, 5, 93, 86, 100, 43, 23, 1, 89, 71, 77, 68, 27, 64, 45, 41, 16, 51, 95, 48, 2, 14, 14, 9, 100, 87, 26, 73, 92, 53, 65, 64, 93, 27, 18, 96, 49, 56, 90, 70, 58, 66, 45, 84, 31, 27, 42, 3, 31, 32, 22, 1, 71, 1, 8, 44, 1, 44, 100, 53, 76, 75, 74, 40, 40, 25, 52, 4, 1, 4, 17, 27, 69, 25, 73, 48, 86, 11, 45, 60, 31, 87, 45, 4, 32, 1, 75, 92, 4, 36, 38, 44, 26, 26, 76, 13, 32, 18, 71, 24, 81, 37, 17, 24, 44, 29, 9, 97, 70, 30, 86, 59, 94, 1, 83, 69, 72, 12, 45, 10, 23, 18, 86, 44, 85, 23, 92, 39, 69, 22, 21, 81, 97, 10, 20, 74, 87, 87, 69, 66, 39, 5, 63, 70, 100, 32, 35, 51, 97, 55, 10, 43, 89, 22, 80, 33, 64, 32, 65, 70, 56, 16, 59, 61, 3, 3, 31, 49, 69]\n"
     ]
    }
   ],
   "source": [
    "import random\n",
    "\n",
    "mylist = []\n",
    "\n",
    "for i in range(0,1000):\n",
    "    x = random.randint(0,100)\n",
    "    mylist.append(x)\n",
    "\n",
    "print(mylist)"
   ]
  },
  {
   "cell_type": "markdown",
   "metadata": {},
   "source": [
    "Then I will export them as step1.csv file"
   ]
  },
  {
   "cell_type": "code",
   "execution_count": 2,
   "metadata": {},
   "outputs": [],
   "source": [
    "import numpy as np\n",
    "np.savetxt(\"step1.csv\", mylist, delimiter=\",\", fmt='%s')"
   ]
  },
  {
   "cell_type": "markdown",
   "metadata": {},
   "source": [
    "# Step 2:\n",
    "  \n",
    "Using the original 1000 numbers to generate new numbers by the equation y=3x+6"
   ]
  },
  {
   "cell_type": "code",
   "execution_count": 5,
   "metadata": {},
   "outputs": [],
   "source": [
    "import csv\n",
    "\n",
    "with open('step1.csv', newline='') as f:\n",
    "    reader = csv.reader(f)\n",
    "    data = list(reader)\n",
    "\n"
   ]
  },
  {
   "cell_type": "markdown",
   "metadata": {},
   "source": [
    "To this step, I load the dataset from step 1(1000 random numbers)  \n",
    "Then I generate new dataset base on them by the equation y=3x+6."
   ]
  },
  {
   "cell_type": "code",
   "execution_count": 6,
   "metadata": {},
   "outputs": [
    {
     "name": "stdout",
     "output_type": "stream",
     "text": [
      "[189, 114, 147, 48, 231, 228, 204, 84, 72, 246, 159, 171, 147, 210, 198, 78, 30, 132, 111, 12, 141, 12, 90, 6, 162, 288, 261, 144, 162, 36, 159, 102, 120, 270, 111, 12, 183, 195, 300, 258, 261, 288, 57, 126, 93, 78, 96, 96, 168, 126, 297, 108, 252, 150, 81, 105, 255, 123, 6, 192, 267, 33, 255, 129, 66, 165, 168, 192, 210, 84, 135, 54, 297, 291, 168, 288, 186, 141, 306, 42, 285, 39, 75, 84, 12, 99, 288, 90, 156, 237, 258, 114, 297, 243, 99, 48, 300, 6, 300, 210, 84, 81, 207, 12, 234, 117, 51, 291, 171, 96, 171, 6, 60, 192, 159, 147, 177, 222, 213, 33, 246, 168, 78, 21, 225, 303, 279, 66, 183, 102, 270, 246, 54, 33, 249, 51, 162, 120, 78, 288, 96, 291, 201, 279, 285, 18, 66, 291, 129, 144, 219, 174, 60, 132, 123, 63, 126, 39, 114, 51, 210, 15, 75, 216, 261, 165, 276, 12, 114, 282, 141, 18, 39, 195, 57, 120, 258, 297, 24, 105, 186, 249, 42, 276, 6, 276, 306, 189, 21, 282, 258, 81, 207, 102, 114, 156, 69, 108, 273, 294, 231, 120, 129, 24, 177, 201, 189, 243, 81, 165, 24, 276, 9, 246, 57, 159, 57, 189, 42, 84, 27, 9, 225, 21, 132, 213, 282, 216, 36, 153, 306, 264, 216, 297, 192, 114, 201, 144, 159, 123, 198, 291, 285, 165, 54, 180, 273, 15, 225, 189, 57, 105, 267, 213, 261, 264, 39, 81, 120, 144, 126, 297, 159, 225, 240, 243, 216, 147, 267, 69, 36, 81, 222, 282, 279, 231, 96, 129, 84, 207, 288, 165, 147, 69, 69, 270, 294, 78, 150, 192, 303, 159, 27, 78, 45, 237, 42, 132, 168, 147, 180, 129, 156, 255, 24, 201, 24, 24, 81, 114, 51, 45, 306, 87, 198, 135, 249, 111, 174, 57, 288, 117, 240, 273, 288, 264, 195, 6, 18, 201, 120, 132, 63, 273, 288, 114, 267, 228, 276, 249, 171, 159, 159, 78, 150, 195, 153, 201, 132, 15, 111, 126, 162, 96, 39, 303, 228, 129, 33, 9, 261, 126, 174, 36, 237, 9, 165, 192, 186, 285, 303, 126, 243, 294, 12, 249, 282, 171, 42, 60, 201, 204, 24, 165, 231, 252, 216, 261, 288, 231, 261, 48, 189, 33, 18, 60, 66, 36, 18, 219, 216, 141, 159, 39, 282, 243, 177, 300, 228, 147, 12, 132, 234, 177, 54, 45, 252, 201, 108, 57, 87, 135, 42, 141, 36, 96, 141, 60, 60, 99, 102, 198, 30, 39, 198, 108, 219, 69, 129, 234, 288, 255, 6, 276, 21, 105, 51, 144, 15, 114, 27, 147, 198, 129, 225, 39, 99, 285, 231, 174, 285, 186, 123, 132, 201, 219, 6, 66, 144, 102, 45, 228, 15, 288, 93, 144, 81, 9, 273, 273, 273, 252, 147, 189, 306, 186, 150, 144, 75, 249, 132, 237, 159, 90, 255, 288, 300, 195, 285, 117, 96, 66, 48, 204, 51, 24, 255, 222, 45, 165, 117, 204, 138, 213, 114, 267, 177, 12, 117, 78, 234, 150, 261, 288, 162, 198, 105, 15, 150, 264, 81, 15, 39, 300, 189, 297, 186, 306, 198, 252, 207, 198, 27, 72, 201, 294, 99, 201, 51, 36, 285, 159, 165, 27, 144, 279, 189, 162, 120, 9, 141, 96, 60, 9, 27, 186, 126, 279, 111, 30, 84, 102, 231, 270, 207, 183, 99, 6, 177, 21, 48, 186, 126, 105, 150, 285, 48, 180, 27, 21, 174, 6, 63, 96, 282, 252, 78, 150, 111, 120, 264, 99, 30, 285, 54, 156, 120, 192, 42, 111, 60, 291, 153, 144, 237, 69, 189, 54, 213, 105, 78, 153, 183, 300, 117, 255, 135, 108, 39, 117, 87, 207, 282, 153, 195, 69, 24, 141, 9, 27, 279, 99, 15, 204, 231, 60, 231, 264, 57, 57, 99, 132, 213, 225, 102, 21, 159, 297, 132, 6, 108, 183, 90, 21, 120, 78, 255, 189, 210, 96, 72, 36, 255, 69, 198, 228, 249, 78, 54, 123, 27, 9, 240, 243, 249, 81, 264, 297, 210, 123, 24, 216, 129, 135, 255, 72, 66, 33, 78, 129, 117, 180, 279, 60, 36, 192, 120, 114, 252, 114, 183, 297, 15, 291, 228, 129, 186, 153, 21, 126, 171, 177, 75, 111, 270, 213, 114, 273, 306, 228, 264, 258, 261, 240, 210, 102, 294, 294, 6, 36, 303, 108, 246, 93, 177, 123, 141, 282, 156, 183, 234, 39, 6, 120, 282, 12, 129, 135, 207, 273, 99, 294, 93, 24, 36, 30, 84, 210, 204, 21, 177, 237, 306, 252, 135, 282, 192, 111, 165, 66, 228, 51, 210, 189, 54, 291, 81, 66, 48, 105, 264, 195, 201, 51, 12, 279, 282, 249, 120, 231, 108, 171, 132, 234, 237, 228, 237, 174, 279, 249, 54, 108, 231, 51, 12, 216, 288, 258, 39, 294, 174, 294, 183, 240, 102, 267, 186, 204, 198, 132, 282, 147, 21, 285, 264, 306, 135, 75, 9, 273, 219, 237, 210, 87, 198, 141, 129, 54, 159, 291, 150, 12, 48, 48, 33, 306, 267, 84, 225, 282, 165, 201, 198, 285, 87, 60, 294, 153, 174, 276, 216, 180, 204, 141, 258, 99, 87, 132, 15, 99, 102, 72, 9, 219, 9, 30, 138, 9, 138, 306, 165, 234, 231, 228, 126, 126, 81, 162, 18, 9, 18, 57, 87, 213, 81, 225, 150, 264, 39, 141, 186, 99, 267, 141, 18, 102, 9, 231, 282, 18, 114, 120, 138, 84, 84, 234, 45, 102, 60, 219, 78, 249, 117, 57, 78, 138, 93, 33, 297, 216, 96, 264, 183, 288, 9, 255, 213, 222, 42, 141, 36, 75, 60, 264, 138, 261, 75, 282, 123, 213, 72, 69, 249, 297, 36, 66, 228, 267, 267, 213, 204, 123, 21, 195, 216, 306, 102, 111, 159, 297, 171, 36, 135, 273, 72, 246, 105, 198, 102, 201, 216, 174, 54, 183, 189, 15, 15, 99, 153, 213]\n"
     ]
    }
   ],
   "source": [
    "length=len(data)\n",
    "mylist=[]\n",
    "for i in range(length):\n",
    "    mylist.append(int(data[i][0])*3+6)\n",
    "print(mylist)"
   ]
  },
  {
   "cell_type": "markdown",
   "metadata": {},
   "source": [
    "Here is the new dataset2, and then I export the new dataset into step2.csv file."
   ]
  },
  {
   "cell_type": "code",
   "execution_count": 7,
   "metadata": {},
   "outputs": [],
   "source": [
    "import numpy as np\n",
    "np.savetxt(\"step2.csv\", mylist, delimiter=\",\", fmt='%s')"
   ]
  },
  {
   "cell_type": "markdown",
   "metadata": {},
   "source": [
    "# Step 3:  \n",
    "## Visualization"
   ]
  },
  {
   "cell_type": "markdown",
   "metadata": {},
   "source": [
    "In this part, I use matplotlib library to visualize my answer."
   ]
  },
  {
   "cell_type": "markdown",
   "metadata": {},
   "source": [
    "At first, I import the dataset from step1 and step2."
   ]
  },
  {
   "cell_type": "code",
   "execution_count": 9,
   "metadata": {},
   "outputs": [
    {
     "name": "stdout",
     "output_type": "stream",
     "text": [
      "[61, 36, 47, 14, 75, 74, 66, 26, 22, 80, 51, 55, 47, 68, 64, 24, 8, 42, 35, 2, 45, 2, 28, 0, 52, 94, 85, 46, 52, 10, 51, 32, 38, 88, 35, 2, 59, 63, 98, 84, 85, 94, 17, 40, 29, 24, 30, 30, 54, 40, 97, 34, 82, 48, 25, 33, 83, 39, 0, 62, 87, 9, 83, 41, 20, 53, 54, 62, 68, 26, 43, 16, 97, 95, 54, 94, 60, 45, 100, 12, 93, 11, 23, 26, 2, 31, 94, 28, 50, 77, 84, 36, 97, 79, 31, 14, 98, 0, 98, 68, 26, 25, 67, 2, 76, 37, 15, 95, 55, 30, 55, 0, 18, 62, 51, 47, 57, 72, 69, 9, 80, 54, 24, 5, 73, 99, 91, 20, 59, 32, 88, 80, 16, 9, 81, 15, 52, 38, 24, 94, 30, 95, 65, 91, 93, 4, 20, 95, 41, 46, 71, 56, 18, 42, 39, 19, 40, 11, 36, 15, 68, 3, 23, 70, 85, 53, 90, 2, 36, 92, 45, 4, 11, 63, 17, 38, 84, 97, 6, 33, 60, 81, 12, 90, 0, 90, 100, 61, 5, 92, 84, 25, 67, 32, 36, 50, 21, 34, 89, 96, 75, 38, 41, 6, 57, 65, 61, 79, 25, 53, 6, 90, 1, 80, 17, 51, 17, 61, 12, 26, 7, 1, 73, 5, 42, 69, 92, 70, 10, 49, 100, 86, 70, 97, 62, 36, 65, 46, 51, 39, 64, 95, 93, 53, 16, 58, 89, 3, 73, 61, 17, 33, 87, 69, 85, 86, 11, 25, 38, 46, 40, 97, 51, 73, 78, 79, 70, 47, 87, 21, 10, 25, 72, 92, 91, 75, 30, 41, 26, 67, 94, 53, 47, 21, 21, 88, 96, 24, 48, 62, 99, 51, 7, 24, 13, 77, 12, 42, 54, 47, 58, 41, 50, 83, 6, 65, 6, 6, 25, 36, 15, 13, 100, 27, 64, 43, 81, 35, 56, 17, 94, 37, 78, 89, 94, 86, 63, 0, 4, 65, 38, 42, 19, 89, 94, 36, 87, 74, 90, 81, 55, 51, 51, 24, 48, 63, 49, 65, 42, 3, 35, 40, 52, 30, 11, 99, 74, 41, 9, 1, 85, 40, 56, 10, 77, 1, 53, 62, 60, 93, 99, 40, 79, 96, 2, 81, 92, 55, 12, 18, 65, 66, 6, 53, 75, 82, 70, 85, 94, 75, 85, 14, 61, 9, 4, 18, 20, 10, 4, 71, 70, 45, 51, 11, 92, 79, 57, 98, 74, 47, 2, 42, 76, 57, 16, 13, 82, 65, 34, 17, 27, 43, 12, 45, 10, 30, 45, 18, 18, 31, 32, 64, 8, 11, 64, 34, 71, 21, 41, 76, 94, 83, 0, 90, 5, 33, 15, 46, 3, 36, 7, 47, 64, 41, 73, 11, 31, 93, 75, 56, 93, 60, 39, 42, 65, 71, 0, 20, 46, 32, 13, 74, 3, 94, 29, 46, 25, 1, 89, 89, 89, 82, 47, 61, 100, 60, 48, 46, 23, 81, 42, 77, 51, 28, 83, 94, 98, 63, 93, 37, 30, 20, 14, 66, 15, 6, 83, 72, 13, 53, 37, 66, 44, 69, 36, 87, 57, 2, 37, 24, 76, 48, 85, 94, 52, 64, 33, 3, 48, 86, 25, 3, 11, 98, 61, 97, 60, 100, 64, 82, 67, 64, 7, 22, 65, 96, 31, 65, 15, 10, 93, 51, 53, 7, 46, 91, 61, 52, 38, 1, 45, 30, 18, 1, 7, 60, 40, 91, 35, 8, 26, 32, 75, 88, 67, 59, 31, 0, 57, 5, 14, 60, 40, 33, 48, 93, 14, 58, 7, 5, 56, 0, 19, 30, 92, 82, 24, 48, 35, 38, 86, 31, 8, 93, 16, 50, 38, 62, 12, 35, 18, 95, 49, 46, 77, 21, 61, 16, 69, 33, 24, 49, 59, 98, 37, 83, 43, 34, 11, 37, 27, 67, 92, 49, 63, 21, 6, 45, 1, 7, 91, 31, 3, 66, 75, 18, 75, 86, 17, 17, 31, 42, 69, 73, 32, 5, 51, 97, 42, 0, 34, 59, 28, 5, 38, 24, 83, 61, 68, 30, 22, 10, 83, 21, 64, 74, 81, 24, 16, 39, 7, 1, 78, 79, 81, 25, 86, 97, 68, 39, 6, 70, 41, 43, 83, 22, 20, 9, 24, 41, 37, 58, 91, 18, 10, 62, 38, 36, 82, 36, 59, 97, 3, 95, 74, 41, 60, 49, 5, 40, 55, 57, 23, 35, 88, 69, 36, 89, 100, 74, 86, 84, 85, 78, 68, 32, 96, 96, 0, 10, 99, 34, 80, 29, 57, 39, 45, 92, 50, 59, 76, 11, 0, 38, 92, 2, 41, 43, 67, 89, 31, 96, 29, 6, 10, 8, 26, 68, 66, 5, 57, 77, 100, 82, 43, 92, 62, 35, 53, 20, 74, 15, 68, 61, 16, 95, 25, 20, 14, 33, 86, 63, 65, 15, 2, 91, 92, 81, 38, 75, 34, 55, 42, 76, 77, 74, 77, 56, 91, 81, 16, 34, 75, 15, 2, 70, 94, 84, 11, 96, 56, 96, 59, 78, 32, 87, 60, 66, 64, 42, 92, 47, 5, 93, 86, 100, 43, 23, 1, 89, 71, 77, 68, 27, 64, 45, 41, 16, 51, 95, 48, 2, 14, 14, 9, 100, 87, 26, 73, 92, 53, 65, 64, 93, 27, 18, 96, 49, 56, 90, 70, 58, 66, 45, 84, 31, 27, 42, 3, 31, 32, 22, 1, 71, 1, 8, 44, 1, 44, 100, 53, 76, 75, 74, 40, 40, 25, 52, 4, 1, 4, 17, 27, 69, 25, 73, 48, 86, 11, 45, 60, 31, 87, 45, 4, 32, 1, 75, 92, 4, 36, 38, 44, 26, 26, 76, 13, 32, 18, 71, 24, 81, 37, 17, 24, 44, 29, 9, 97, 70, 30, 86, 59, 94, 1, 83, 69, 72, 12, 45, 10, 23, 18, 86, 44, 85, 23, 92, 39, 69, 22, 21, 81, 97, 10, 20, 74, 87, 87, 69, 66, 39, 5, 63, 70, 100, 32, 35, 51, 97, 55, 10, 43, 89, 22, 80, 33, 64, 32, 65, 70, 56, 16, 59, 61, 3, 3, 31, 49, 69]\n",
      "[189, 114, 147, 48, 231, 228, 204, 84, 72, 246, 159, 171, 147, 210, 198, 78, 30, 132, 111, 12, 141, 12, 90, 6, 162, 288, 261, 144, 162, 36, 159, 102, 120, 270, 111, 12, 183, 195, 300, 258, 261, 288, 57, 126, 93, 78, 96, 96, 168, 126, 297, 108, 252, 150, 81, 105, 255, 123, 6, 192, 267, 33, 255, 129, 66, 165, 168, 192, 210, 84, 135, 54, 297, 291, 168, 288, 186, 141, 306, 42, 285, 39, 75, 84, 12, 99, 288, 90, 156, 237, 258, 114, 297, 243, 99, 48, 300, 6, 300, 210, 84, 81, 207, 12, 234, 117, 51, 291, 171, 96, 171, 6, 60, 192, 159, 147, 177, 222, 213, 33, 246, 168, 78, 21, 225, 303, 279, 66, 183, 102, 270, 246, 54, 33, 249, 51, 162, 120, 78, 288, 96, 291, 201, 279, 285, 18, 66, 291, 129, 144, 219, 174, 60, 132, 123, 63, 126, 39, 114, 51, 210, 15, 75, 216, 261, 165, 276, 12, 114, 282, 141, 18, 39, 195, 57, 120, 258, 297, 24, 105, 186, 249, 42, 276, 6, 276, 306, 189, 21, 282, 258, 81, 207, 102, 114, 156, 69, 108, 273, 294, 231, 120, 129, 24, 177, 201, 189, 243, 81, 165, 24, 276, 9, 246, 57, 159, 57, 189, 42, 84, 27, 9, 225, 21, 132, 213, 282, 216, 36, 153, 306, 264, 216, 297, 192, 114, 201, 144, 159, 123, 198, 291, 285, 165, 54, 180, 273, 15, 225, 189, 57, 105, 267, 213, 261, 264, 39, 81, 120, 144, 126, 297, 159, 225, 240, 243, 216, 147, 267, 69, 36, 81, 222, 282, 279, 231, 96, 129, 84, 207, 288, 165, 147, 69, 69, 270, 294, 78, 150, 192, 303, 159, 27, 78, 45, 237, 42, 132, 168, 147, 180, 129, 156, 255, 24, 201, 24, 24, 81, 114, 51, 45, 306, 87, 198, 135, 249, 111, 174, 57, 288, 117, 240, 273, 288, 264, 195, 6, 18, 201, 120, 132, 63, 273, 288, 114, 267, 228, 276, 249, 171, 159, 159, 78, 150, 195, 153, 201, 132, 15, 111, 126, 162, 96, 39, 303, 228, 129, 33, 9, 261, 126, 174, 36, 237, 9, 165, 192, 186, 285, 303, 126, 243, 294, 12, 249, 282, 171, 42, 60, 201, 204, 24, 165, 231, 252, 216, 261, 288, 231, 261, 48, 189, 33, 18, 60, 66, 36, 18, 219, 216, 141, 159, 39, 282, 243, 177, 300, 228, 147, 12, 132, 234, 177, 54, 45, 252, 201, 108, 57, 87, 135, 42, 141, 36, 96, 141, 60, 60, 99, 102, 198, 30, 39, 198, 108, 219, 69, 129, 234, 288, 255, 6, 276, 21, 105, 51, 144, 15, 114, 27, 147, 198, 129, 225, 39, 99, 285, 231, 174, 285, 186, 123, 132, 201, 219, 6, 66, 144, 102, 45, 228, 15, 288, 93, 144, 81, 9, 273, 273, 273, 252, 147, 189, 306, 186, 150, 144, 75, 249, 132, 237, 159, 90, 255, 288, 300, 195, 285, 117, 96, 66, 48, 204, 51, 24, 255, 222, 45, 165, 117, 204, 138, 213, 114, 267, 177, 12, 117, 78, 234, 150, 261, 288, 162, 198, 105, 15, 150, 264, 81, 15, 39, 300, 189, 297, 186, 306, 198, 252, 207, 198, 27, 72, 201, 294, 99, 201, 51, 36, 285, 159, 165, 27, 144, 279, 189, 162, 120, 9, 141, 96, 60, 9, 27, 186, 126, 279, 111, 30, 84, 102, 231, 270, 207, 183, 99, 6, 177, 21, 48, 186, 126, 105, 150, 285, 48, 180, 27, 21, 174, 6, 63, 96, 282, 252, 78, 150, 111, 120, 264, 99, 30, 285, 54, 156, 120, 192, 42, 111, 60, 291, 153, 144, 237, 69, 189, 54, 213, 105, 78, 153, 183, 300, 117, 255, 135, 108, 39, 117, 87, 207, 282, 153, 195, 69, 24, 141, 9, 27, 279, 99, 15, 204, 231, 60, 231, 264, 57, 57, 99, 132, 213, 225, 102, 21, 159, 297, 132, 6, 108, 183, 90, 21, 120, 78, 255, 189, 210, 96, 72, 36, 255, 69, 198, 228, 249, 78, 54, 123, 27, 9, 240, 243, 249, 81, 264, 297, 210, 123, 24, 216, 129, 135, 255, 72, 66, 33, 78, 129, 117, 180, 279, 60, 36, 192, 120, 114, 252, 114, 183, 297, 15, 291, 228, 129, 186, 153, 21, 126, 171, 177, 75, 111, 270, 213, 114, 273, 306, 228, 264, 258, 261, 240, 210, 102, 294, 294, 6, 36, 303, 108, 246, 93, 177, 123, 141, 282, 156, 183, 234, 39, 6, 120, 282, 12, 129, 135, 207, 273, 99, 294, 93, 24, 36, 30, 84, 210, 204, 21, 177, 237, 306, 252, 135, 282, 192, 111, 165, 66, 228, 51, 210, 189, 54, 291, 81, 66, 48, 105, 264, 195, 201, 51, 12, 279, 282, 249, 120, 231, 108, 171, 132, 234, 237, 228, 237, 174, 279, 249, 54, 108, 231, 51, 12, 216, 288, 258, 39, 294, 174, 294, 183, 240, 102, 267, 186, 204, 198, 132, 282, 147, 21, 285, 264, 306, 135, 75, 9, 273, 219, 237, 210, 87, 198, 141, 129, 54, 159, 291, 150, 12, 48, 48, 33, 306, 267, 84, 225, 282, 165, 201, 198, 285, 87, 60, 294, 153, 174, 276, 216, 180, 204, 141, 258, 99, 87, 132, 15, 99, 102, 72, 9, 219, 9, 30, 138, 9, 138, 306, 165, 234, 231, 228, 126, 126, 81, 162, 18, 9, 18, 57, 87, 213, 81, 225, 150, 264, 39, 141, 186, 99, 267, 141, 18, 102, 9, 231, 282, 18, 114, 120, 138, 84, 84, 234, 45, 102, 60, 219, 78, 249, 117, 57, 78, 138, 93, 33, 297, 216, 96, 264, 183, 288, 9, 255, 213, 222, 42, 141, 36, 75, 60, 264, 138, 261, 75, 282, 123, 213, 72, 69, 249, 297, 36, 66, 228, 267, 267, 213, 204, 123, 21, 195, 216, 306, 102, 111, 159, 297, 171, 36, 135, 273, 72, 246, 105, 198, 102, 201, 216, 174, 54, 183, 189, 15, 15, 99, 153, 213]\n"
     ]
    }
   ],
   "source": [
    "import matplotlib.pyplot as plt\n",
    "import csv\n",
    "\n",
    "with open('step1.csv', newline='') as f:\n",
    "    reader = csv.reader(f)\n",
    "    data1 = list(reader)\n",
    "list1=[]\n",
    "for i in range(len(data1)):\n",
    "    list1.append(int(data1[i][0]))\n",
    "print(list1)\n",
    "\n",
    "with open('step2.csv', newline='') as f:\n",
    "    reader = csv.reader(f)\n",
    "    data2 = list(reader)\n",
    "list2=[]\n",
    "for i in range(len(data1)):\n",
    "    list2.append(int(data2[i][0]))\n",
    "print(list2)"
   ]
  },
  {
   "cell_type": "markdown",
   "metadata": {},
   "source": [
    "After importing step1.csv into list1, and step2.csv into list2."
   ]
  },
  {
   "cell_type": "markdown",
   "metadata": {},
   "source": [
    "I begin to use matplotlib to visualize the result."
   ]
  },
  {
   "cell_type": "code",
   "execution_count": 10,
   "metadata": {
    "scrolled": true
   },
   "outputs": [
    {
     "data": {
      "image/png": "[encoded data removed]",
      "text/plain": [
       "<Figure size 432x288 with 1 Axes>"
      ]
     },
     "metadata": {},
     "output_type": "display_data"
    }
   ],
   "source": [
    "plt.plot(list1, list2)\n",
    "\n",
    "plt.xlabel('x - axis')\n",
    "plt.ylabel('y - axis')\n",
    "\n",
    "plt.title('Visualizing 1000 numbers from 0-100 by the equation y=3x+6')\n",
    "plt.savefig('Visualization.png')\n",
    "plt.show()"
   ]
  },
  {
   "cell_type": "markdown",
   "metadata": {},
   "source": [
    "Here is the plot of X versus Y.  \n",
    "Meanwhile, I have saved the image as \"Visualization.png\" into local files."
   ]
  },
  {
   "cell_type": "markdown",
   "metadata": {},
   "source": [
    "To sum up, at last I have come up with 2 intermediate datasets and 1 visualization image.  \n",
    "For question a), I got step1.csv.  \n",
    "For question b), I got step2.csv.  \n",
    "For question c), I got Visualization.png.  "
   ]
  },
  {
   "cell_type": "markdown",
   "metadata": {},
   "source": [
    "## I have them all included in my Github repository."
   ]
  }
 ],
 "metadata": {
  "kernelspec": {
   "display_name": "Python 3",
   "language": "python",
   "name": "python3"
  },
  "language_info": {
   "codemirror_mode": {
    "name": "ipython",
    "version": 3
   },
   "file_extension": ".py",
   "mimetype": "text/x-python",
   "name": "python",
   "nbconvert_exporter": "python",
   "pygments_lexer": "ipython3",
   "version": "3.6.5"
  }
 },
 "nbformat": 4,
 "nbformat_minor": 2
}
