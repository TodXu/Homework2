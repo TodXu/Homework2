{
 "cells": [
  {
   "cell_type": "markdown",
   "metadata": {},
   "source": [
    "# DS560: Data Science Practicum\n",
    "## Homework 2\n",
    "### Wenkai Xu"
   ]
  },
  {
   "cell_type": "markdown",
   "metadata": {},
   "source": [
    "# Here is the requirement of this homework:\n",
    "### Create three different scripts to perform the following tasks:     \n",
    "  \n",
    "a.Generate 1000 random numbers over the range 0-100  \n",
    "b.Generate new numbers from the original 1000 using the equation y=3x+6  \n",
    "c.Visualize the results  "
   ]
  },
  {
   "cell_type": "markdown",
   "metadata": {},
   "source": [
    "### I will break it down into 3 steps with scripts."
   ]
  },
  {
   "cell_type": "markdown",
   "metadata": {},
   "source": [
    "# Step 1:  \n",
    "Generating 1000 random numbers over the range 0-100 into a list and then export the list into a csv file  \n",
    "### By the way, I can also use \"%run -i step1.ipynb\" to execute the step1.ipynb script instead of copy-pasting my scirpts."
   ]
  },
  {
   "cell_type": "code",
   "execution_count": 29,
   "metadata": {},
   "outputs": [
    {
     "name": "stdout",
     "output_type": "stream",
     "text": [
      "[73, 10, 84, 27, 38, 94, 5, 68, 52, 21, 13, 39, 56, 58, 1, 54, 71, 30, 91, 46, 26, 51, 80, 96, 19, 64, 93, 78, 4, 77, 72, 35, 16, 51, 47, 96, 19, 5, 97, 22, 40, 98, 96, 73, 56, 28, 52, 40, 76, 53, 68, 84, 96, 13, 41, 50, 61, 34, 19, 44, 2, 15, 48, 21, 100, 89, 62, 48, 56, 62, 96, 71, 21, 90, 77, 60, 21, 68, 37, 25, 46, 92, 87, 47, 32, 41, 51, 67, 29, 48, 86, 49, 75, 71, 84, 81, 39, 13, 96, 69, 14, 42, 44, 62, 66, 0, 46, 10, 48, 81, 27, 17, 4, 30, 62, 22, 48, 11, 48, 63, 92, 77, 60, 96, 2, 96, 16, 22, 98, 65, 92, 85, 100, 5, 84, 73, 85, 25, 50, 9, 18, 66, 85, 95, 46, 22, 69, 37, 6, 30, 24, 9, 54, 4, 24, 13, 40, 36, 23, 80, 68, 77, 9, 41, 24, 61, 75, 49, 79, 21, 98, 68, 2, 48, 76, 60, 87, 84, 8, 20, 27, 17, 81, 32, 81, 77, 74, 63, 54, 46, 28, 9, 69, 70, 7, 37, 55, 4, 19, 75, 53, 61, 3, 27, 61, 98, 39, 8, 41, 10, 56, 55, 63, 40, 10, 46, 75, 61, 4, 56, 61, 77, 39, 97, 1, 79, 38, 86, 73, 18, 82, 52, 87, 18, 37, 14, 15, 51, 82, 45, 70, 48, 32, 69, 80, 27, 19, 74, 75, 100, 69, 24, 41, 95, 6, 86, 33, 59, 58, 46, 32, 23, 51, 48, 0, 7, 59, 55, 61, 39, 70, 96, 82, 62, 85, 60, 41, 95, 48, 43, 57, 0, 35, 78, 63, 69, 82, 52, 75, 23, 45, 28, 12, 87, 62, 75, 0, 80, 21, 47, 18, 4, 54, 7, 46, 7, 16, 43, 46, 17, 79, 75, 76, 70, 69, 5, 3, 3, 42, 74, 82, 94, 81, 0, 43, 20, 55, 16, 35, 3, 85, 32, 68, 71, 49, 57, 65, 16, 81, 11, 78, 54, 25, 98, 66, 52, 3, 89, 93, 25, 43, 41, 30, 93, 61, 39, 83, 0, 39, 56, 21, 59, 11, 33, 47, 97, 56, 59, 3, 70, 80, 86, 13, 100, 48, 57, 86, 76, 11, 25, 43, 27, 51, 71, 61, 68, 71, 32, 33, 17, 40, 91, 75, 60, 83, 20, 52, 71, 42, 65, 85, 10, 31, 65, 18, 55, 41, 16, 39, 74, 91, 67, 89, 73, 32, 31, 77, 96, 8, 67, 12, 29, 60, 39, 0, 38, 55, 10, 37, 63, 26, 83, 86, 4, 52, 50, 100, 99, 62, 57, 8, 67, 28, 27, 58, 91, 94, 12, 55, 97, 74, 62, 50, 29, 20, 1, 57, 46, 27, 74, 65, 57, 89, 39, 82, 45, 74, 54, 94, 7, 2, 36, 93, 65, 50, 86, 84, 12, 98, 42, 23, 30, 63, 51, 72, 67, 0, 1, 89, 92, 31, 5, 78, 86, 94, 75, 73, 62, 38, 47, 89, 59, 44, 54, 46, 4, 45, 40, 58, 54, 96, 27, 64, 41, 37, 60, 6, 1, 61, 25, 6, 76, 11, 2, 90, 77, 92, 34, 75, 99, 5, 94, 11, 94, 42, 63, 64, 1, 4, 38, 25, 51, 33, 87, 65, 33, 33, 99, 53, 90, 32, 77, 92, 27, 88, 66, 27, 56, 94, 95, 23, 47, 51, 9, 44, 98, 62, 79, 56, 42, 40, 57, 7, 51, 86, 66, 60, 53, 82, 94, 56, 20, 73, 46, 89, 64, 42, 39, 49, 45, 53, 46, 21, 85, 95, 12, 86, 38, 27, 40, 74, 82, 49, 16, 93, 94, 93, 98, 14, 66, 9, 40, 88, 62, 0, 22, 55, 29, 23, 67, 55, 64, 55, 1, 67, 91, 89, 89, 1, 3, 71, 100, 49, 98, 63, 27, 52, 81, 31, 99, 24, 75, 95, 81, 97, 67, 96, 51, 75, 30, 25, 54, 75, 44, 67, 80, 48, 30, 79, 87, 28, 4, 33, 75, 87, 74, 34, 64, 39, 71, 76, 26, 31, 52, 4, 66, 30, 36, 100, 34, 59, 49, 88, 12, 94, 23, 78, 77, 29, 48, 10, 5, 57, 98, 33, 27, 44, 27, 52, 69, 56, 53, 18, 93, 86, 72, 78, 5, 75, 7, 22, 90, 39, 65, 83, 13, 43, 68, 38, 66, 7, 1, 83, 65, 49, 58, 24, 52, 18, 65, 24, 1, 21, 73, 4, 98, 40, 45, 67, 56, 17, 35, 45, 14, 96, 60, 83, 63, 43, 82, 1, 71, 94, 1, 33, 1, 58, 46, 4, 13, 61, 7, 10, 29, 16, 15, 28, 88, 49, 35, 20, 98, 84, 45, 37, 18, 90, 4, 97, 89, 42, 0, 16, 41, 33, 32, 14, 3, 57, 78, 78, 5, 98, 18, 36, 83, 52, 41, 87, 35, 9, 10, 99, 77, 16, 92, 92, 75, 42, 52, 75, 67, 91, 10, 55, 35, 58, 82, 24, 70, 38, 69, 14, 49, 37, 34, 53, 52, 72, 63, 18, 22, 83, 76, 45, 28, 19, 80, 91, 69, 39, 90, 71, 32, 43, 38, 20, 4, 89, 53, 63, 54, 90, 76, 58, 91, 3, 32, 2, 78, 13, 100, 63, 100, 67, 44, 15, 41, 20, 64, 64, 93, 21, 7, 41, 67, 68, 82, 18, 25, 2, 46, 9, 7, 32, 5, 1, 62, 64, 10, 48, 34, 84, 65, 25, 29, 33, 17, 8, 37, 93, 22, 35, 76, 97, 45, 64, 75, 96, 82, 28, 8, 73, 78, 33, 18, 43, 53, 6, 94, 82, 24, 71, 87, 79, 63, 69, 48, 70, 72, 84, 27, 92, 56, 43, 1, 95, 71, 19, 41, 56, 48, 10, 61, 90, 66, 41, 63, 51, 22, 97, 34, 37, 45, 52, 8, 6, 21, 45, 26, 68, 12, 82, 2, 14, 62, 30, 68, 42, 12, 16, 47, 91, 57, 61, 33, 55, 15, 14, 41, 86, 84, 93, 11, 4, 64, 95, 28, 92, 11, 4, 93, 59, 26, 6, 37, 75, 78, 99, 2]\n"
     ]
    }
   ],
   "source": [
    "import random\n",
    "import matplotlib.pyplot as plt\n",
    "\n",
    "mylist = []\n",
    "\n",
    "for i in range(0,1000):\n",
    "    x = random.randint(0,100)\n",
    "    mylist.append(x)\n",
    "\n",
    "print(mylist)"
   ]
  },
  {
   "cell_type": "markdown",
   "metadata": {},
   "source": [
    "Then I will export them as step1.csv file"
   ]
  },
  {
   "cell_type": "code",
   "execution_count": 20,
   "metadata": {},
   "outputs": [],
   "source": [
    "import numpy as np\n",
    "np.savetxt(\"step1.csv\", mylist, delimiter=\",\", fmt='%s')"
   ]
  },
  {
   "cell_type": "markdown",
   "metadata": {},
   "source": [
    "## Initial Visualization: "
   ]
  },
  {
   "cell_type": "code",
   "execution_count": 21,
   "metadata": {},
   "outputs": [
    {
     "data": {
      "image/png": "[encoded data removed]",
      "text/plain": [
       "<Figure size 432x288 with 1 Axes>"
      ]
     },
     "metadata": {},
     "output_type": "display_data"
    }
   ],
   "source": [
    "plt.hist(mylist,bins=33, alpha = 0.5, label = \"0-100\")\n",
    "plt.legend(loc='upper left')\n",
    "plt.xlabel(\"Number\", size=16)\n",
    "plt.ylabel(\"Count\", size=16)\n",
    "plt.title(\"Histograms of Random Generated Numbers\")\n",
    "plt.show()"
   ]
  },
  {
   "cell_type": "markdown",
   "metadata": {},
   "source": [
    "# Step 2:\n",
    "  \n",
    "Using the original 1000 numbers to generate new numbers by the equation y=3x+6"
   ]
  },
  {
   "cell_type": "code",
   "execution_count": 22,
   "metadata": {},
   "outputs": [],
   "source": [
    "import csv\n",
    "\n",
    "with open('step1.csv', newline='') as f:\n",
    "    reader = csv.reader(f)\n",
    "    data = list(reader)\n",
    "\n"
   ]
  },
  {
   "cell_type": "markdown",
   "metadata": {},
   "source": [
    "To this step, I load the dataset from step 1(1000 random numbers)  \n",
    "Then I generate new dataset base on them by the equation y=3x+6."
   ]
  },
  {
   "cell_type": "code",
   "execution_count": 23,
   "metadata": {},
   "outputs": [
    {
     "name": "stdout",
     "output_type": "stream",
     "text": [
      "[198, 132, 150, 273, 129, 81, 240, 300, 195, 234, 33, 114, 42, 99, 207, 117, 138, 186, 138, 54, 135, 177, 153, 282, 252, 69, 96, 27, 237, 135, 36, 147, 111, 132, 126, 57, 222, 15, 132, 228, 156, 72, 9, 99, 66, 156, 165, 126, 306, 159, 153, 96, 57, 21, 195, 150, 303, 195, 219, 9, 246, 9, 279, 21, 129, 153, 189, 291, 90, 27, 102, 201, 195, 189, 207, 156, 171, 255, 282, 249, 264, 51, 291, 261, 36, 138, 300, 225, 195, 18, 33, 210, 291, 54, 120, 12, 75, 273, 192, 183, 279, 108, 87, 219, 219, 111, 198, 162, 33, 219, 273, 246, 198, 177, 207, 105, 135, 141, 186, 12, 225, 219, 69, 141, 6, 60, 297, 63, 90, 138, 306, 300, 198, 111, 219, 270, 306, 6, 33, 108, 36, 195, 135, 42, 60, 114, 129, 159, 123, 306, 159, 297, 198, 246, 171, 15, 240, 300, 153, 201, 156, 96, 42, 219, 180, 24, 267, 276, 195, 156, 27, 102, 162, 90, 204, 105, 18, 168, 144, 138, 27, 102, 93, 129, 192, 27, 222, 120, 207, 195, 39, 225, 9, 33, 51, 210, 99, 33, 144, 39, 156, 42, 24, 162, 270, 246, 255, 126, 51, 144, 57, 63, 261, 159, 255, 282, 78, 243, 198, 102, 288, 150, 75, 123, 126, 171, 186, 87, 270, 255, 174, 27, 36, 207, 177, 276, 78, 102, 219, 54, 276, 243, 249, 45, 171, 105, 93, 45, 192, 30, 108, 150, 39, 54, 84, 267, 90, 36, 138, 99, 57, 219, 114, 54, 51, 12, 165, 147, 210, 255, 276, 21, 267, 66, 99, 219, 48, 183, 75, 246, 306, 219, 63, 63, 141, 33, 30, 111, 246, 9, 261, 243, 87, 102, 132, 243, 87, 105, 303, 36, 78, 15, 201, 240, 6, 87, 144, 213, 150, 237, 165, 240, 87, 147, 195, 111, 81, 276, 69, 249, 90, 87, 102, 75, 81, 213, 234, 87, 252, 162, 51, 24, 33, 276, 228, 216, 108, 36, 171, 297, 192, 276, 240, 108, 42, 279, 123, 204, 42, 180, 45, 105, 69, 66, 63, 105, 201, 231, 231, 207, 111, 297, 222, 270, 114, 66, 255, 66, 84, 69, 225, 282, 75, 96, 60, 195, 24, 45, 132, 27, 126, 126, 96, 306, 285, 237, 99, 39, 279, 126, 102, 297, 93, 9, 69, 225, 222, 198, 240, 39, 24, 219, 156, 48, 66, 24, 45, 51, 228, 117, 150, 78, 78, 120, 162, 303, 126, 150, 24, 48, 264, 255, 285, 24, 33, 87, 162, 156, 69, 18, 78, 126, 261, 195, 198, 51, 63, 249, 297, 45, 75, 114, 33, 102, 222, 192, 198, 249, 198, 177, 54, 264, 186, 84, 84, 291, 252, 87, 15, 285, 69, 282, 96, 201, 192, 99, 30, 225, 231, 288, 39, 279, 102, 39, 213, 111, 144, 123, 276, 39, 240, 162, 243, 219, 207, 192, 243, 234, 150, 270, 48, 36, 90, 117, 291, 210, 66, 234, 102, 156, 294, 240, 111, 126, 255, 249, 207, 6, 78, 72, 75, 84, 192, 48, 258, 39, 24, 234, 159, 249, 156, 279, 210, 216, 231, 288, 279, 303, 108, 114, 219, 30, 192, 117, 180, 213, 114, 33, 141, 123, 111, 255, 153, 66, 288, 267, 24, 261, 27, 60, 63, 117, 201, 207, 159, 132, 285, 135, 141, 126, 132, 12, 288, 99, 72, 6, 276, 210, 105, 168, 63, 39, 108, 90, 18, 30, 72, 69, 255, 177, 291, 123, 192, 204, 165, 297, 159, 174, 297, 147, 186, 48, 111, 159, 228, 90, 297, 294, 114, 300, 186, 120, 129, 6, 102, 252, 66, 180, 66, 126, 147, 36, 45, 105, 75, 156, 183, 168, 12, 147, 207, 234, 138, 42, 156, 240, 216, 282, 249, 60, 174, 195, 297, 276, 63, 129, 249, 300, 102, 258, 195, 99, 255, 105, 108, 135, 261, 252, 300, 93, 54, 273, 81, 231, 45, 219, 288, 33, 129, 144, 108, 117, 285, 30, 231, 264, 9, 54, 207, 270, 126, 111, 126, 78, 276, 42, 243, 204, 15, 291, 15, 81, 249, 258, 54, 183, 216, 276, 30, 282, 243, 303, 249, 126, 192, 30, 57, 33, 204, 132, 255, 60, 300, 216, 93, 219, 174, 114, 123, 39, 255, 279, 168, 255, 15, 90, 267, 105, 159, 9, 243, 21, 72, 186, 171, 51, 177, 267, 156, 297, 63, 48, 201, 219, 297, 159, 288, 162, 42, 159, 39, 279, 228, 141, 150, 111, 135, 195, 57, 243, 189, 162, 66, 237, 165, 27, 294, 48, 219, 159, 276, 213, 153, 102, 183, 117, 126, 213, 120, 183, 9, 108, 237, 288, 306, 270, 99, 99, 180, 144, 96, 261, 39, 261, 288, 171, 171, 126, 21, 138, 147, 198, 117, 249, 27, 210, 108, 219, 261, 9, 207, 111, 63, 33, 21, 150, 234, 6, 174, 66, 126, 291, 285, 81, 273, 90, 90, 18, 72, 276, 24, 153, 51, 285, 144, 18, 204, 78, 294, 66, 27, 123, 21, 60, 54, 138, 123, 228, 66, 237, 300, 261, 204, 27, 225, 210, 240, 24, 249, 45, 225, 48, 252, 216, 171, 192, 237, 147, 57, 144, 231, 99, 147, 195, 54, 210, 117, 285, 252, 288, 90, 303, 159, 162, 75, 99, 51, 192, 60, 105, 114, 24, 6, 75, 111, 282, 192, 192, 105, 282, 276, 192, 48, 300, 207, 120, 195, 192, 174, 60, 105, 165, 258, 264, 114, 63, 21, 33, 285, 57, 231, 24, 48, 258, 306, 24, 102, 213, 87, 273, 222, 51, 306, 276, 69, 258, 78, 144, 192, 174, 45, 207, 9, 159, 276, 159, 54, 78, 6, 258, 39, 300, 33, 105, 96, 189, 72, 150, 123, 264, 201, 267, 225, 195, 291, 117, 171, 276, 210, 108, 24, 18, 48, 120, 114, 111, 153, 165, 300, 93, 117, 105, 258, 6, 219, 297, 54, 237, 198, 66, 132, 180, 273, 18, 81, 24, 225, 291, 60, 126, 126, 108, 195, 249, 270, 243, 234, 48, 30, 255]\n"
     ]
    }
   ],
   "source": [
    "length=len(data)\n",
    "mylist=[]\n",
    "for i in range(length):\n",
    "    mylist.append(int(data[i][0])*3+6)\n",
    "print(mylist)"
   ]
  },
  {
   "cell_type": "markdown",
   "metadata": {},
   "source": [
    "Here is the new dataset2, and then I export the new dataset into step2.csv file."
   ]
  },
  {
   "cell_type": "code",
   "execution_count": 24,
   "metadata": {},
   "outputs": [],
   "source": [
    "import numpy as np\n",
    "np.savetxt(\"step2.csv\", mylist, delimiter=\",\", fmt='%s')"
   ]
  },
  {
   "cell_type": "markdown",
   "metadata": {},
   "source": [
    "## Intermediate Visualization"
   ]
  },
  {
   "cell_type": "code",
   "execution_count": 25,
   "metadata": {},
   "outputs": [
    {
     "data": {
      "image/png": "[encoded data removed]",
      "text/plain": [
       "<Figure size 432x288 with 1 Axes>"
      ]
     },
     "metadata": {},
     "output_type": "display_data"
    }
   ],
   "source": [
    "plt.hist(mylist,bins=33, alpha = 0.5, label = \"y=3x+6\")\n",
    "plt.legend(loc='upper left')\n",
    "plt.xlabel(\"Number\", size=16)\n",
    "plt.ylabel(\"Count\", size=16)\n",
    "plt.title(\"Histograms of Equation Generated Numbers\")\n",
    "plt.show()"
   ]
  },
  {
   "cell_type": "markdown",
   "metadata": {},
   "source": [
    "### Another alternative for running the script is to use magic documentation:  \n",
    "%run -i step2.ipynb"
   ]
  },
  {
   "cell_type": "markdown",
   "metadata": {},
   "source": [
    "# Step 3:  \n",
    "## Visualization"
   ]
  },
  {
   "cell_type": "markdown",
   "metadata": {},
   "source": [
    "In this part, I use matplotlib library to visualize my answer."
   ]
  },
  {
   "cell_type": "markdown",
   "metadata": {},
   "source": [
    "At first, I import the dataset from step1 and step2."
   ]
  },
  {
   "cell_type": "code",
   "execution_count": 26,
   "metadata": {},
   "outputs": [
    {
     "name": "stdout",
     "output_type": "stream",
     "text": [
      "[64, 42, 48, 89, 41, 25, 78, 98, 63, 76, 9, 36, 12, 31, 67, 37, 44, 60, 44, 16, 43, 57, 49, 92, 82, 21, 30, 7, 77, 43, 10, 47, 35, 42, 40, 17, 72, 3, 42, 74, 50, 22, 1, 31, 20, 50, 53, 40, 100, 51, 49, 30, 17, 5, 63, 48, 99, 63, 71, 1, 80, 1, 91, 5, 41, 49, 61, 95, 28, 7, 32, 65, 63, 61, 67, 50, 55, 83, 92, 81, 86, 15, 95, 85, 10, 44, 98, 73, 63, 4, 9, 68, 95, 16, 38, 2, 23, 89, 62, 59, 91, 34, 27, 71, 71, 35, 64, 52, 9, 71, 89, 80, 64, 57, 67, 33, 43, 45, 60, 2, 73, 71, 21, 45, 0, 18, 97, 19, 28, 44, 100, 98, 64, 35, 71, 88, 100, 0, 9, 34, 10, 63, 43, 12, 18, 36, 41, 51, 39, 100, 51, 97, 64, 80, 55, 3, 78, 98, 49, 65, 50, 30, 12, 71, 58, 6, 87, 90, 63, 50, 7, 32, 52, 28, 66, 33, 4, 54, 46, 44, 7, 32, 29, 41, 62, 7, 72, 38, 67, 63, 11, 73, 1, 9, 15, 68, 31, 9, 46, 11, 50, 12, 6, 52, 88, 80, 83, 40, 15, 46, 17, 19, 85, 51, 83, 92, 24, 79, 64, 32, 94, 48, 23, 39, 40, 55, 60, 27, 88, 83, 56, 7, 10, 67, 57, 90, 24, 32, 71, 16, 90, 79, 81, 13, 55, 33, 29, 13, 62, 8, 34, 48, 11, 16, 26, 87, 28, 10, 44, 31, 17, 71, 36, 16, 15, 2, 53, 47, 68, 83, 90, 5, 87, 20, 31, 71, 14, 59, 23, 80, 100, 71, 19, 19, 45, 9, 8, 35, 80, 1, 85, 79, 27, 32, 42, 79, 27, 33, 99, 10, 24, 3, 65, 78, 0, 27, 46, 69, 48, 77, 53, 78, 27, 47, 63, 35, 25, 90, 21, 81, 28, 27, 32, 23, 25, 69, 76, 27, 82, 52, 15, 6, 9, 90, 74, 70, 34, 10, 55, 97, 62, 90, 78, 34, 12, 91, 39, 66, 12, 58, 13, 33, 21, 20, 19, 33, 65, 75, 75, 67, 35, 97, 72, 88, 36, 20, 83, 20, 26, 21, 73, 92, 23, 30, 18, 63, 6, 13, 42, 7, 40, 40, 30, 100, 93, 77, 31, 11, 91, 40, 32, 97, 29, 1, 21, 73, 72, 64, 78, 11, 6, 71, 50, 14, 20, 6, 13, 15, 74, 37, 48, 24, 24, 38, 52, 99, 40, 48, 6, 14, 86, 83, 93, 6, 9, 27, 52, 50, 21, 4, 24, 40, 85, 63, 64, 15, 19, 81, 97, 13, 23, 36, 9, 32, 72, 62, 64, 81, 64, 57, 16, 86, 60, 26, 26, 95, 82, 27, 3, 93, 21, 92, 30, 65, 62, 31, 8, 73, 75, 94, 11, 91, 32, 11, 69, 35, 46, 39, 90, 11, 78, 52, 79, 71, 67, 62, 79, 76, 48, 88, 14, 10, 28, 37, 95, 68, 20, 76, 32, 50, 96, 78, 35, 40, 83, 81, 67, 0, 24, 22, 23, 26, 62, 14, 84, 11, 6, 76, 51, 81, 50, 91, 68, 70, 75, 94, 91, 99, 34, 36, 71, 8, 62, 37, 58, 69, 36, 9, 45, 39, 35, 83, 49, 20, 94, 87, 6, 85, 7, 18, 19, 37, 65, 67, 51, 42, 93, 43, 45, 40, 42, 2, 94, 31, 22, 0, 90, 68, 33, 54, 19, 11, 34, 28, 4, 8, 22, 21, 83, 57, 95, 39, 62, 66, 53, 97, 51, 56, 97, 47, 60, 14, 35, 51, 74, 28, 97, 96, 36, 98, 60, 38, 41, 0, 32, 82, 20, 58, 20, 40, 47, 10, 13, 33, 23, 50, 59, 54, 2, 47, 67, 76, 44, 12, 50, 78, 70, 92, 81, 18, 56, 63, 97, 90, 19, 41, 81, 98, 32, 84, 63, 31, 83, 33, 34, 43, 85, 82, 98, 29, 16, 89, 25, 75, 13, 71, 94, 9, 41, 46, 34, 37, 93, 8, 75, 86, 1, 16, 67, 88, 40, 35, 40, 24, 90, 12, 79, 66, 3, 95, 3, 25, 81, 84, 16, 59, 70, 90, 8, 92, 79, 99, 81, 40, 62, 8, 17, 9, 66, 42, 83, 18, 98, 70, 29, 71, 56, 36, 39, 11, 83, 91, 54, 83, 3, 28, 87, 33, 51, 1, 79, 5, 22, 60, 55, 15, 57, 87, 50, 97, 19, 14, 65, 71, 97, 51, 94, 52, 12, 51, 11, 91, 74, 45, 48, 35, 43, 63, 17, 79, 61, 52, 20, 77, 53, 7, 96, 14, 71, 51, 90, 69, 49, 32, 59, 37, 40, 69, 38, 59, 1, 34, 77, 94, 100, 88, 31, 31, 58, 46, 30, 85, 11, 85, 94, 55, 55, 40, 5, 44, 47, 64, 37, 81, 7, 68, 34, 71, 85, 1, 67, 35, 19, 9, 5, 48, 76, 0, 56, 20, 40, 95, 93, 25, 89, 28, 28, 4, 22, 90, 6, 49, 15, 93, 46, 4, 66, 24, 96, 20, 7, 39, 5, 18, 16, 44, 39, 74, 20, 77, 98, 85, 66, 7, 73, 68, 78, 6, 81, 13, 73, 14, 82, 70, 55, 62, 77, 47, 17, 46, 75, 31, 47, 63, 16, 68, 37, 93, 82, 94, 28, 99, 51, 52, 23, 31, 15, 62, 18, 33, 36, 6, 0, 23, 35, 92, 62, 62, 33, 92, 90, 62, 14, 98, 67, 38, 63, 62, 56, 18, 33, 53, 84, 86, 36, 19, 5, 9, 93, 17, 75, 6, 14, 84, 100, 6, 32, 69, 27, 89, 72, 15, 100, 90, 21, 84, 24, 46, 62, 56, 13, 67, 1, 51, 90, 51, 16, 24, 0, 84, 11, 98, 9, 33, 30, 61, 22, 48, 39, 86, 65, 87, 73, 63, 95, 37, 55, 90, 68, 34, 6, 4, 14, 38, 36, 35, 49, 53, 98, 29, 37, 33, 84, 0, 71, 97, 16, 77, 64, 20, 42, 58, 89, 4, 25, 6, 73, 95, 18, 40, 40, 34, 63, 81, 88, 79, 76, 14, 8, 83]\n",
      "[198, 132, 150, 273, 129, 81, 240, 300, 195, 234, 33, 114, 42, 99, 207, 117, 138, 186, 138, 54, 135, 177, 153, 282, 252, 69, 96, 27, 237, 135, 36, 147, 111, 132, 126, 57, 222, 15, 132, 228, 156, 72, 9, 99, 66, 156, 165, 126, 306, 159, 153, 96, 57, 21, 195, 150, 303, 195, 219, 9, 246, 9, 279, 21, 129, 153, 189, 291, 90, 27, 102, 201, 195, 189, 207, 156, 171, 255, 282, 249, 264, 51, 291, 261, 36, 138, 300, 225, 195, 18, 33, 210, 291, 54, 120, 12, 75, 273, 192, 183, 279, 108, 87, 219, 219, 111, 198, 162, 33, 219, 273, 246, 198, 177, 207, 105, 135, 141, 186, 12, 225, 219, 69, 141, 6, 60, 297, 63, 90, 138, 306, 300, 198, 111, 219, 270, 306, 6, 33, 108, 36, 195, 135, 42, 60, 114, 129, 159, 123, 306, 159, 297, 198, 246, 171, 15, 240, 300, 153, 201, 156, 96, 42, 219, 180, 24, 267, 276, 195, 156, 27, 102, 162, 90, 204, 105, 18, 168, 144, 138, 27, 102, 93, 129, 192, 27, 222, 120, 207, 195, 39, 225, 9, 33, 51, 210, 99, 33, 144, 39, 156, 42, 24, 162, 270, 246, 255, 126, 51, 144, 57, 63, 261, 159, 255, 282, 78, 243, 198, 102, 288, 150, 75, 123, 126, 171, 186, 87, 270, 255, 174, 27, 36, 207, 177, 276, 78, 102, 219, 54, 276, 243, 249, 45, 171, 105, 93, 45, 192, 30, 108, 150, 39, 54, 84, 267, 90, 36, 138, 99, 57, 219, 114, 54, 51, 12, 165, 147, 210, 255, 276, 21, 267, 66, 99, 219, 48, 183, 75, 246, 306, 219, 63, 63, 141, 33, 30, 111, 246, 9, 261, 243, 87, 102, 132, 243, 87, 105, 303, 36, 78, 15, 201, 240, 6, 87, 144, 213, 150, 237, 165, 240, 87, 147, 195, 111, 81, 276, 69, 249, 90, 87, 102, 75, 81, 213, 234, 87, 252, 162, 51, 24, 33, 276, 228, 216, 108, 36, 171, 297, 192, 276, 240, 108, 42, 279, 123, 204, 42, 180, 45, 105, 69, 66, 63, 105, 201, 231, 231, 207, 111, 297, 222, 270, 114, 66, 255, 66, 84, 69, 225, 282, 75, 96, 60, 195, 24, 45, 132, 27, 126, 126, 96, 306, 285, 237, 99, 39, 279, 126, 102, 297, 93, 9, 69, 225, 222, 198, 240, 39, 24, 219, 156, 48, 66, 24, 45, 51, 228, 117, 150, 78, 78, 120, 162, 303, 126, 150, 24, 48, 264, 255, 285, 24, 33, 87, 162, 156, 69, 18, 78, 126, 261, 195, 198, 51, 63, 249, 297, 45, 75, 114, 33, 102, 222, 192, 198, 249, 198, 177, 54, 264, 186, 84, 84, 291, 252, 87, 15, 285, 69, 282, 96, 201, 192, 99, 30, 225, 231, 288, 39, 279, 102, 39, 213, 111, 144, 123, 276, 39, 240, 162, 243, 219, 207, 192, 243, 234, 150, 270, 48, 36, 90, 117, 291, 210, 66, 234, 102, 156, 294, 240, 111, 126, 255, 249, 207, 6, 78, 72, 75, 84, 192, 48, 258, 39, 24, 234, 159, 249, 156, 279, 210, 216, 231, 288, 279, 303, 108, 114, 219, 30, 192, 117, 180, 213, 114, 33, 141, 123, 111, 255, 153, 66, 288, 267, 24, 261, 27, 60, 63, 117, 201, 207, 159, 132, 285, 135, 141, 126, 132, 12, 288, 99, 72, 6, 276, 210, 105, 168, 63, 39, 108, 90, 18, 30, 72, 69, 255, 177, 291, 123, 192, 204, 165, 297, 159, 174, 297, 147, 186, 48, 111, 159, 228, 90, 297, 294, 114, 300, 186, 120, 129, 6, 102, 252, 66, 180, 66, 126, 147, 36, 45, 105, 75, 156, 183, 168, 12, 147, 207, 234, 138, 42, 156, 240, 216, 282, 249, 60, 174, 195, 297, 276, 63, 129, 249, 300, 102, 258, 195, 99, 255, 105, 108, 135, 261, 252, 300, 93, 54, 273, 81, 231, 45, 219, 288, 33, 129, 144, 108, 117, 285, 30, 231, 264, 9, 54, 207, 270, 126, 111, 126, 78, 276, 42, 243, 204, 15, 291, 15, 81, 249, 258, 54, 183, 216, 276, 30, 282, 243, 303, 249, 126, 192, 30, 57, 33, 204, 132, 255, 60, 300, 216, 93, 219, 174, 114, 123, 39, 255, 279, 168, 255, 15, 90, 267, 105, 159, 9, 243, 21, 72, 186, 171, 51, 177, 267, 156, 297, 63, 48, 201, 219, 297, 159, 288, 162, 42, 159, 39, 279, 228, 141, 150, 111, 135, 195, 57, 243, 189, 162, 66, 237, 165, 27, 294, 48, 219, 159, 276, 213, 153, 102, 183, 117, 126, 213, 120, 183, 9, 108, 237, 288, 306, 270, 99, 99, 180, 144, 96, 261, 39, 261, 288, 171, 171, 126, 21, 138, 147, 198, 117, 249, 27, 210, 108, 219, 261, 9, 207, 111, 63, 33, 21, 150, 234, 6, 174, 66, 126, 291, 285, 81, 273, 90, 90, 18, 72, 276, 24, 153, 51, 285, 144, 18, 204, 78, 294, 66, 27, 123, 21, 60, 54, 138, 123, 228, 66, 237, 300, 261, 204, 27, 225, 210, 240, 24, 249, 45, 225, 48, 252, 216, 171, 192, 237, 147, 57, 144, 231, 99, 147, 195, 54, 210, 117, 285, 252, 288, 90, 303, 159, 162, 75, 99, 51, 192, 60, 105, 114, 24, 6, 75, 111, 282, 192, 192, 105, 282, 276, 192, 48, 300, 207, 120, 195, 192, 174, 60, 105, 165, 258, 264, 114, 63, 21, 33, 285, 57, 231, 24, 48, 258, 306, 24, 102, 213, 87, 273, 222, 51, 306, 276, 69, 258, 78, 144, 192, 174, 45, 207, 9, 159, 276, 159, 54, 78, 6, 258, 39, 300, 33, 105, 96, 189, 72, 150, 123, 264, 201, 267, 225, 195, 291, 117, 171, 276, 210, 108, 24, 18, 48, 120, 114, 111, 153, 165, 300, 93, 117, 105, 258, 6, 219, 297, 54, 237, 198, 66, 132, 180, 273, 18, 81, 24, 225, 291, 60, 126, 126, 108, 195, 249, 270, 243, 234, 48, 30, 255]\n"
     ]
    }
   ],
   "source": [
    "import matplotlib.pyplot as plt\n",
    "import csv\n",
    "\n",
    "with open('step1.csv', newline='') as f:\n",
    "    reader = csv.reader(f)\n",
    "    data1 = list(reader)\n",
    "list1=[]\n",
    "for i in range(len(data1)):\n",
    "    list1.append(int(data1[i][0]))\n",
    "print(list1)\n",
    "\n",
    "with open('step2.csv', newline='') as f:\n",
    "    reader = csv.reader(f)\n",
    "    data2 = list(reader)\n",
    "list2=[]\n",
    "for i in range(len(data1)):\n",
    "    list2.append(int(data2[i][0]))\n",
    "print(list2)"
   ]
  },
  {
   "cell_type": "markdown",
   "metadata": {},
   "source": [
    "After importing step1.csv into list1, and step2.csv into list2."
   ]
  },
  {
   "cell_type": "markdown",
   "metadata": {},
   "source": [
    "I begin to use matplotlib to visualize the result."
   ]
  },
  {
   "cell_type": "markdown",
   "metadata": {},
   "source": [
    "## Final results Visualization"
   ]
  },
  {
   "cell_type": "code",
   "execution_count": 27,
   "metadata": {
    "scrolled": true
   },
   "outputs": [
    {
     "data": {
      "image/png": "[encoded data removed]",
      "text/plain": [
       "<Figure size 432x288 with 1 Axes>"
      ]
     },
     "metadata": {},
     "output_type": "display_data"
    }
   ],
   "source": [
    "plt.plot(list1, list2)\n",
    "\n",
    "plt.xlabel('x - axis')\n",
    "plt.ylabel('y - axis')\n",
    "\n",
    "plt.title('Visualizing 1000 numbers from 0-100 by the equation y=3x+6')\n",
    "plt.savefig('Visualization.png')\n",
    "plt.show()"
   ]
  },
  {
   "cell_type": "markdown",
   "metadata": {},
   "source": [
    "Here is the plot of X versus Y.  \n",
    "Meanwhile, I have saved the image as \"Visualization.png\" into local files."
   ]
  },
  {
   "cell_type": "markdown",
   "metadata": {},
   "source": [
    "To sum up, at last I have come up with 2 intermediate datasets and 1 visualization image.  \n",
    "For question a), I got step1.csv.  \n",
    "For question b), I got step2.csv.  \n",
    "For question c), I got Visualization.png.  "
   ]
  },
  {
   "cell_type": "markdown",
   "metadata": {},
   "source": [
    "## I have them all included in Figshare."
   ]
  },
  {
   "cell_type": "markdown",
   "metadata": {},
   "source": [
    "https://figshare.com/articles/dataset/Step1/13003712 for step1.csv"
   ]
  },
  {
   "cell_type": "markdown",
   "metadata": {},
   "source": [
    "https://figshare.com/articles/dataset/Step2/13003715 for step2.csv"
   ]
  },
  {
   "cell_type": "markdown",
   "metadata": {},
   "source": [
    "https://figshare.com/articles/figure/Step_3_Visualize/13003820 for the visualization"
   ]
  }
 ],
 "metadata": {
  "kernelspec": {
   "display_name": "Python 3",
   "language": "python",
   "name": "python3"
  },
  "language_info": {
   "codemirror_mode": {
    "name": "ipython",
    "version": 3
   },
   "file_extension": ".py",
   "mimetype": "text/x-python",
   "name": "python",
   "nbconvert_exporter": "python",
   "pygments_lexer": "ipython3",
   "version": "3.6.5"
  }
 },
 "nbformat": 4,
 "nbformat_minor": 2
}
